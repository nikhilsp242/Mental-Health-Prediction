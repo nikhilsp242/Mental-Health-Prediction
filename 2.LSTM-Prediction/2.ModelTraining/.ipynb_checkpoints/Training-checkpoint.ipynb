{
 "cells": [
  {
   "cell_type": "code",
   "execution_count": 9,
   "id": "a840e48a",
   "metadata": {},
   "outputs": [],
   "source": [
    "import json\n",
    "import numpy as np\n",
    "from keras.preprocessing.text import Tokenizer\n",
    "from tensorflow.keras.preprocessing.text import Tokenizer\n",
    "from tensorflow.keras.preprocessing.sequence import pad_sequences\n",
    "from tensorflow.keras.models import Sequential\n",
    "from tensorflow.keras.layers import Embedding, LSTM, Dense\n",
    "from sklearn.preprocessing import LabelEncoder\n",
    "from sklearn.utils import class_weight\n",
    "from sklearn.model_selection import train_test_split\n",
    "from sklearn.metrics import classification_report"
   ]
  },
  {
   "cell_type": "code",
   "execution_count": 16,
   "id": "4b386f4b",
   "metadata": {},
   "outputs": [],
   "source": [
    "sample_file = 'C:/Users/nikhil/PESU/Capstone/Data/SMHD/sampleLabEnc1000.jl'"
   ]
  },
  {
   "cell_type": "code",
   "execution_count": 44,
   "id": "8c7fe72c",
   "metadata": {},
   "outputs": [],
   "source": [
    "sample_data = []\n",
    "with open(sample_file, 'r', encoding='utf-8') as file:\n",
    "    for line in file:\n",
    "        sample_data.append(json.loads(line))"
   ]
  },
  {
   "cell_type": "code",
   "execution_count": 45,
   "id": "023c2a4c",
   "metadata": {},
   "outputs": [],
   "source": [
    "word_index = {}"
   ]
  },
  {
   "cell_type": "code",
   "execution_count": 46,
   "id": "1880530e",
   "metadata": {},
   "outputs": [],
   "source": [
    "current_index = 1"
   ]
  },
  {
   "cell_type": "code",
   "execution_count": 47,
   "id": "1a46bfe4",
   "metadata": {},
   "outputs": [],
   "source": [
    "for user_data in sample_data:\n",
    "    for post in user_data['posts']:\n",
    "        for word in post['text']:\n",
    "            if word not in word_index:\n",
    "                word_index[word] = current_index\n",
    "                current_index += 1"
   ]
  },
  {
   "cell_type": "code",
   "execution_count": 48,
   "id": "dff84ab1",
   "metadata": {},
   "outputs": [],
   "source": [
    "max_sequence_length = 0"
   ]
  },
  {
   "cell_type": "code",
   "execution_count": 49,
   "id": "94e9c24f",
   "metadata": {},
   "outputs": [],
   "source": [
    "for user_data in sample_data:\n",
    "    for post in user_data['posts']:\n",
    "        num_words = len(post['text'])\n",
    "        if num_words > max_sequence_length:\n",
    "            max_sequence_length = num_words"
   ]
  },
  {
   "cell_type": "code",
   "execution_count": 60,
   "id": "269cce3a",
   "metadata": {},
   "outputs": [],
   "source": [
    "padded_sequences = []"
   ]
  },
  {
   "cell_type": "code",
   "execution_count": 61,
   "id": "531a7b1a",
   "metadata": {},
   "outputs": [],
   "source": [
    "for user_data in sample_data:\n",
    "    user_sequences = [post['text'] for post in user_data['posts']]\n",
    "    # Convert text to integer sequences using the word-to-index mapping\n",
    "    user_sequences = [[word_index.get(word, 0) for word in post] for post in user_sequences]\n",
    "    # Pad integer sequences to the defined maximum length\n",
    "    padded_user_sequences = pad_sequences(user_sequences, maxlen=max_sequence_length)\n",
    "    padded_sequences.append(padded_user_sequences)"
   ]
  },
  {
   "cell_type": "code",
   "execution_count": 71,
   "id": "29a33171",
   "metadata": {},
   "outputs": [],
   "source": [
    "all_labels = set()"
   ]
  },
  {
   "cell_type": "code",
   "execution_count": 72,
   "id": "aa1ccf85",
   "metadata": {},
   "outputs": [],
   "source": [
    "for user_data in sample_data:\n",
    "    user_labels = user_data.get('label', [])\n",
    "    all_labels.update(user_labels)"
   ]
  },
  {
   "cell_type": "code",
   "execution_count": 73,
   "id": "421fcc2c",
   "metadata": {},
   "outputs": [],
   "source": [
    "all_labels_list = list(all_labels)"
   ]
  },
  {
   "cell_type": "code",
   "execution_count": 74,
   "id": "93ae3bae",
   "metadata": {},
   "outputs": [
    {
     "name": "stdout",
     "output_type": "stream",
     "text": [
      "['autism', 'ptsd', 'ocd', 'anxiety', 'adhd', 'bipolar', 'depression', 'control', 'eating']\n"
     ]
    }
   ],
   "source": [
    "print(all_labels_list)"
   ]
  },
  {
   "cell_type": "code",
   "execution_count": 75,
   "id": "e2a73242",
   "metadata": {},
   "outputs": [],
   "source": [
    "# Create a mapping from label to index\n",
    "label_to_index = {label: idx for idx, label in enumerate(all_labels_list)}"
   ]
  },
  {
   "cell_type": "code",
   "execution_count": 76,
   "id": "8b6dc22f",
   "metadata": {},
   "outputs": [],
   "source": [
    "user_label_indices = []"
   ]
  },
  {
   "cell_type": "code",
   "execution_count": 77,
   "id": "05248609",
   "metadata": {},
   "outputs": [],
   "source": [
    "# Prepare the data for training\n",
    "for user_data in sample_data:\n",
    "    user_labels = user_data.get('label', [])\n",
    "    user_label_indices.append([label_to_index[label] for label in user_labels])"
   ]
  },
  {
   "cell_type": "code",
   "execution_count": 78,
   "id": "868def95",
   "metadata": {},
   "outputs": [],
   "source": [
    "# Flatten the list of sequences and label indices\n",
    "flat_sequences = [seq for user_seqs in padded_sequences for seq in user_seqs]\n",
    "flat_label_indices = [idx for user_idx in user_label_indices for idx in user_idx]"
   ]
  },
  {
   "cell_type": "code",
   "execution_count": null,
   "id": "e96bd020",
   "metadata": {},
   "outputs": [],
   "source": []
  },
  {
   "cell_type": "code",
   "execution_count": null,
   "id": "e693de7a",
   "metadata": {},
   "outputs": [],
   "source": [
    "# Tokenize and pad sequences\n",
    "tokenizer = Tokenizer()\n",
    "flattened_sequences = [str(word) for seq in padded_sequences for word in seq]\n",
    "tokenizer.fit_on_texts(flattened_sequences)\n",
    "word_index = tokenizer.word_index\n",
    "sequences = tokenizer.texts_to_sequences(flattened_sequences)\n",
    "padded_sequences = pad_sequences(sequences, maxlen=max_sequence_length)"
   ]
  },
  {
   "cell_type": "code",
   "execution_count": 67,
   "id": "b0d33169",
   "metadata": {},
   "outputs": [],
   "source": [
    "# Encode labels\n",
    "label_encoder = LabelEncoder()\n",
    "encoded_labels = label_encoder.fit_transform(all_labels_list)"
   ]
  },
  {
   "cell_type": "code",
   "execution_count": 68,
   "id": "070235ec",
   "metadata": {},
   "outputs": [],
   "source": [
    "# Define and compile the LSTM model\n",
    "model = Sequential()\n",
    "model.add(Embedding(input_dim=len(word_index) + 1, output_dim=100, input_length=max_sequence_length))\n",
    "model.add(LSTM(128))\n",
    "model.add(Dense(len(all_labels_list), activation='softmax'))"
   ]
  },
  {
   "cell_type": "code",
   "execution_count": 69,
   "id": "871da2be",
   "metadata": {},
   "outputs": [],
   "source": [
    "model.compile(optimizer='adam', loss='sparse_categorical_crossentropy', metrics=['accuracy'])"
   ]
  },
  {
   "cell_type": "code",
   "execution_count": 70,
   "id": "e817aaf2",
   "metadata": {},
   "outputs": [
    {
     "ename": "ValueError",
     "evalue": "Data cardinality is ambiguous:\n  x sizes: 301627\n  y sizes: 9\nMake sure all arrays contain the same number of samples.",
     "output_type": "error",
     "traceback": [
      "\u001b[1;31m---------------------------------------------------------------------------\u001b[0m",
      "\u001b[1;31mValueError\u001b[0m                                Traceback (most recent call last)",
      "Cell \u001b[1;32mIn[70], line 2\u001b[0m\n\u001b[0;32m      1\u001b[0m \u001b[38;5;66;03m# Train the model using the entire dataset\u001b[39;00m\n\u001b[1;32m----> 2\u001b[0m \u001b[43mmodel\u001b[49m\u001b[38;5;241;43m.\u001b[39;49m\u001b[43mfit\u001b[49m\u001b[43m(\u001b[49m\u001b[43mpadded_sequences\u001b[49m\u001b[43m,\u001b[49m\u001b[43m \u001b[49m\u001b[43mencoded_labels\u001b[49m\u001b[43m,\u001b[49m\u001b[43m \u001b[49m\u001b[43mepochs\u001b[49m\u001b[38;5;241;43m=\u001b[39;49m\u001b[38;5;241;43m10\u001b[39;49m\u001b[43m,\u001b[49m\u001b[43m \u001b[49m\u001b[43mbatch_size\u001b[49m\u001b[38;5;241;43m=\u001b[39;49m\u001b[38;5;241;43m32\u001b[39;49m\u001b[43m)\u001b[49m\n",
      "File \u001b[1;32m~\\AppData\\Local\\Programs\\Python\\Python311\\Lib\\site-packages\\keras\\src\\utils\\traceback_utils.py:70\u001b[0m, in \u001b[0;36mfilter_traceback.<locals>.error_handler\u001b[1;34m(*args, **kwargs)\u001b[0m\n\u001b[0;32m     67\u001b[0m     filtered_tb \u001b[38;5;241m=\u001b[39m _process_traceback_frames(e\u001b[38;5;241m.\u001b[39m__traceback__)\n\u001b[0;32m     68\u001b[0m     \u001b[38;5;66;03m# To get the full stack trace, call:\u001b[39;00m\n\u001b[0;32m     69\u001b[0m     \u001b[38;5;66;03m# `tf.debugging.disable_traceback_filtering()`\u001b[39;00m\n\u001b[1;32m---> 70\u001b[0m     \u001b[38;5;28;01mraise\u001b[39;00m e\u001b[38;5;241m.\u001b[39mwith_traceback(filtered_tb) \u001b[38;5;28;01mfrom\u001b[39;00m \u001b[38;5;28;01mNone\u001b[39;00m\n\u001b[0;32m     71\u001b[0m \u001b[38;5;28;01mfinally\u001b[39;00m:\n\u001b[0;32m     72\u001b[0m     \u001b[38;5;28;01mdel\u001b[39;00m filtered_tb\n",
      "File \u001b[1;32m~\\AppData\\Local\\Programs\\Python\\Python311\\Lib\\site-packages\\keras\\src\\engine\\data_adapter.py:1950\u001b[0m, in \u001b[0;36m_check_data_cardinality\u001b[1;34m(data)\u001b[0m\n\u001b[0;32m   1943\u001b[0m     msg \u001b[38;5;241m+\u001b[39m\u001b[38;5;241m=\u001b[39m \u001b[38;5;124m\"\u001b[39m\u001b[38;5;124m  \u001b[39m\u001b[38;5;132;01m{}\u001b[39;00m\u001b[38;5;124m sizes: \u001b[39m\u001b[38;5;132;01m{}\u001b[39;00m\u001b[38;5;130;01m\\n\u001b[39;00m\u001b[38;5;124m\"\u001b[39m\u001b[38;5;241m.\u001b[39mformat(\n\u001b[0;32m   1944\u001b[0m         label,\n\u001b[0;32m   1945\u001b[0m         \u001b[38;5;124m\"\u001b[39m\u001b[38;5;124m, \u001b[39m\u001b[38;5;124m\"\u001b[39m\u001b[38;5;241m.\u001b[39mjoin(\n\u001b[0;32m   1946\u001b[0m             \u001b[38;5;28mstr\u001b[39m(i\u001b[38;5;241m.\u001b[39mshape[\u001b[38;5;241m0\u001b[39m]) \u001b[38;5;28;01mfor\u001b[39;00m i \u001b[38;5;129;01min\u001b[39;00m tf\u001b[38;5;241m.\u001b[39mnest\u001b[38;5;241m.\u001b[39mflatten(single_data)\n\u001b[0;32m   1947\u001b[0m         ),\n\u001b[0;32m   1948\u001b[0m     )\n\u001b[0;32m   1949\u001b[0m msg \u001b[38;5;241m+\u001b[39m\u001b[38;5;241m=\u001b[39m \u001b[38;5;124m\"\u001b[39m\u001b[38;5;124mMake sure all arrays contain the same number of samples.\u001b[39m\u001b[38;5;124m\"\u001b[39m\n\u001b[1;32m-> 1950\u001b[0m \u001b[38;5;28;01mraise\u001b[39;00m \u001b[38;5;167;01mValueError\u001b[39;00m(msg)\n",
      "\u001b[1;31mValueError\u001b[0m: Data cardinality is ambiguous:\n  x sizes: 301627\n  y sizes: 9\nMake sure all arrays contain the same number of samples."
     ]
    }
   ],
   "source": [
    "# Train the model using the entire dataset\n",
    "model.fit(padded_sequences, encoded_labels, epochs=10, batch_size=32)"
   ]
  },
  {
   "cell_type": "code",
   "execution_count": null,
   "id": "806aaf64",
   "metadata": {},
   "outputs": [],
   "source": []
  }
 ],
 "metadata": {
  "kernelspec": {
   "display_name": "Python 3 (ipykernel)",
   "language": "python",
   "name": "python3"
  },
  "language_info": {
   "codemirror_mode": {
    "name": "ipython",
    "version": 3
   },
   "file_extension": ".py",
   "mimetype": "text/x-python",
   "name": "python",
   "nbconvert_exporter": "python",
   "pygments_lexer": "ipython3",
   "version": "3.11.4"
  }
 },
 "nbformat": 4,
 "nbformat_minor": 5
}
